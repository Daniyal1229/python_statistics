{
 "cells": [
  {
   "cell_type": "code",
   "execution_count": 1,
   "id": "d4675d17",
   "metadata": {},
   "outputs": [
    {
     "data": {
      "text/plain": [
       "20"
      ]
     },
     "execution_count": 1,
     "metadata": {},
     "output_type": "execute_result"
    }
   ],
   "source": [
    "# len ()\n",
    "my_string=\"Syed Daniyal Bokhari\"\n",
    "len(my_string)"
   ]
  },
  {
   "cell_type": "code",
   "execution_count": 2,
   "id": "f5e8239b",
   "metadata": {},
   "outputs": [
    {
     "data": {
      "text/plain": [
       "' '"
      ]
     },
     "execution_count": 2,
     "metadata": {},
     "output_type": "execute_result"
    }
   ],
   "source": [
    "# min()\n",
    "min(my_string)"
   ]
  },
  {
   "cell_type": "code",
   "execution_count": 3,
   "id": "24d32b93",
   "metadata": {},
   "outputs": [
    {
     "data": {
      "text/plain": [
       "'y'"
      ]
     },
     "execution_count": 3,
     "metadata": {},
     "output_type": "execute_result"
    }
   ],
   "source": [
    "# max()\n",
    "max(my_string)"
   ]
  },
  {
   "cell_type": "code",
   "execution_count": 4,
   "id": "49f36302",
   "metadata": {},
   "outputs": [
    {
     "name": "stdout",
     "output_type": "stream",
     "text": [
      "546\n",
      "2\n"
     ]
    }
   ],
   "source": [
    "# List functions\n",
    "my_list =[13,23,4,54,2,56,546]\n",
    "max_list = max(my_list)\n",
    "min_list = min(my_list)\n",
    "\n",
    "print(max_list)\n",
    "print(min_list)"
   ]
  },
  {
   "cell_type": "code",
   "execution_count": 9,
   "id": "d5f0d460",
   "metadata": {},
   "outputs": [
    {
     "data": {
      "text/plain": [
       "1"
      ]
     },
     "execution_count": 9,
     "metadata": {},
     "output_type": "execute_result"
    }
   ],
   "source": [
    "# Mean is the average of all the value that appears in our data set\n",
    "import statistics\n",
    "x = [1,2,3,4,5]\n",
    "mode_x = statistics.mean(x)\n",
    "mode_x"
   ]
  },
  {
   "cell_type": "code",
   "execution_count": 10,
   "id": "d3741d38",
   "metadata": {},
   "outputs": [
    {
     "data": {
      "text/plain": [
       "3"
      ]
     },
     "execution_count": 10,
     "metadata": {},
     "output_type": "execute_result"
    }
   ],
   "source": [
    "# Median is the middle number in a sorted data set\n",
    "median_x = statistics.median(x)\n",
    "median_x"
   ]
  },
  {
   "cell_type": "code",
   "execution_count": 11,
   "id": "632abd66",
   "metadata": {},
   "outputs": [
    {
     "data": {
      "text/plain": [
       "1"
      ]
     },
     "execution_count": 11,
     "metadata": {},
     "output_type": "execute_result"
    }
   ],
   "source": [
    "# Mode is the value that appears most frequently in a data set\n",
    "mode_x = statistics.mode(x)\n",
    "mode_x"
   ]
  },
  {
   "cell_type": "code",
   "execution_count": null,
   "id": "f9b1ef89",
   "metadata": {},
   "outputs": [],
   "source": []
  }
 ],
 "metadata": {
  "kernelspec": {
   "display_name": "Python 3 (ipykernel)",
   "language": "python",
   "name": "python3"
  },
  "language_info": {
   "codemirror_mode": {
    "name": "ipython",
    "version": 3
   },
   "file_extension": ".py",
   "mimetype": "text/x-python",
   "name": "python",
   "nbconvert_exporter": "python",
   "pygments_lexer": "ipython3",
   "version": "3.9.13"
  }
 },
 "nbformat": 4,
 "nbformat_minor": 5
}
